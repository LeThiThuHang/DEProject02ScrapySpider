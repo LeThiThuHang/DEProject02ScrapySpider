{
 "cells": [
  {
   "cell_type": "code",
   "execution_count": 1,
   "id": "4016bdc5",
   "metadata": {},
   "outputs": [],
   "source": [
    "%run CommonFunction.ipynb\n",
    "import pandas as pd"
   ]
  },
  {
   "cell_type": "code",
   "execution_count": 2,
   "id": "e0b0ea16",
   "metadata": {},
   "outputs": [],
   "source": [
    "file_path = '../newegg/newegg/spiders/data.csv'"
   ]
  },
  {
   "cell_type": "code",
   "execution_count": 3,
   "id": "bd5ca74b",
   "metadata": {},
   "outputs": [],
   "source": [
    "df = pd.read_csv(file_path)"
   ]
  },
  {
   "cell_type": "code",
   "execution_count": 4,
   "id": "b42a6631",
   "metadata": {},
   "outputs": [
    {
     "name": "stdout",
     "output_type": "stream",
     "text": [
      "The table has 1868 rows\n",
      "The table has 9 cols\n"
     ]
    }
   ],
   "source": [
    "table_shape(df)"
   ]
  },
  {
   "cell_type": "code",
   "execution_count": 5,
   "id": "976ec5f2",
   "metadata": {},
   "outputs": [
    {
     "name": "stdout",
     "output_type": "stream",
     "text": [
      "Index(['itemID', 'title', 'brand', 'rating', 'number_rating', 'price', 'ship',\n",
      "       'image_url', 'product_des'],\n",
      "      dtype='object')\n",
      "itemID            object\n",
      "title             object\n",
      "brand             object\n",
      "rating           float64\n",
      "number_rating      int64\n",
      "price            float64\n",
      "ship              object\n",
      "image_url         object\n",
      "product_des       object\n",
      "dtype: object\n"
     ]
    }
   ],
   "source": [
    "col(df)"
   ]
  },
  {
   "cell_type": "code",
   "execution_count": 6,
   "id": "5e2176ca",
   "metadata": {},
   "outputs": [
    {
     "name": "stdout",
     "output_type": "stream",
     "text": [
      "There is no empty cell in  itemID column\n",
      "There is no empty cell in  title column\n",
      "There is no empty cell in  brand column\n",
      "There is no empty cell in  rating column\n",
      "There is no empty cell in  number_rating column\n",
      "There is no empty cell in  price column\n",
      "There is no empty cell in  ship column\n",
      "There is no empty cell in  image_url column\n",
      "There is no empty cell in  product_des column\n"
     ]
    }
   ],
   "source": [
    "cols = df.columns\n",
    "for col in cols:\n",
    "    check_empty(df,col)"
   ]
  },
  {
   "cell_type": "code",
   "execution_count": 7,
   "id": "a3533da5",
   "metadata": {},
   "outputs": [
    {
     "data": {
      "text/html": [
       "<div>\n",
       "<style scoped>\n",
       "    .dataframe tbody tr th:only-of-type {\n",
       "        vertical-align: middle;\n",
       "    }\n",
       "\n",
       "    .dataframe tbody tr th {\n",
       "        vertical-align: top;\n",
       "    }\n",
       "\n",
       "    .dataframe thead th {\n",
       "        text-align: right;\n",
       "    }\n",
       "</style>\n",
       "<table border=\"1\" class=\"dataframe\">\n",
       "  <thead>\n",
       "    <tr style=\"text-align: right;\">\n",
       "      <th></th>\n",
       "      <th>itemID</th>\n",
       "      <th>title</th>\n",
       "      <th>brand</th>\n",
       "      <th>rating</th>\n",
       "      <th>number_rating</th>\n",
       "      <th>price</th>\n",
       "      <th>ship</th>\n",
       "      <th>image_url</th>\n",
       "      <th>product_des</th>\n",
       "    </tr>\n",
       "  </thead>\n",
       "  <tbody>\n",
       "    <tr>\n",
       "      <th>0</th>\n",
       "      <td>14-137-787</td>\n",
       "      <td>MSI Ventus GeForce RTX 4070 12GB GDDR6X PCI Ex...</td>\n",
       "      <td>MSI</td>\n",
       "      <td>5.0</td>\n",
       "      <td>1</td>\n",
       "      <td>599.99</td>\n",
       "      <td>0</td>\n",
       "      <td>https://c1.neweggimages.com/ProductImageCompre...</td>\n",
       "      <td>[' 7680 x 4320', ' 3 x DisplayPort 1.4a', ' 1 ...</td>\n",
       "    </tr>\n",
       "    <tr>\n",
       "      <th>1</th>\n",
       "      <td>14-202-394</td>\n",
       "      <td>Sapphire Pulse AMD RADEON RX 6800 GAMING GRAPH...</td>\n",
       "      <td>Sapphire Tech</td>\n",
       "      <td>4.7</td>\n",
       "      <td>46</td>\n",
       "      <td>499.99</td>\n",
       "      <td>0</td>\n",
       "      <td>https://c1.neweggimages.com/ProductImageCompre...</td>\n",
       "      <td>[' 7680 x 4320', ' 3 x DisplayPort 1.4', ' 1 x...</td>\n",
       "    </tr>\n",
       "    <tr>\n",
       "      <th>2</th>\n",
       "      <td>14-137-804</td>\n",
       "      <td>MSI Ventus GeForce RTX 4060 8GB GDDR6 PCI Expr...</td>\n",
       "      <td>MSI</td>\n",
       "      <td>4.5</td>\n",
       "      <td>15</td>\n",
       "      <td>299.99</td>\n",
       "      <td>0</td>\n",
       "      <td>https://c1.neweggimages.com/ProductImageCompre...</td>\n",
       "      <td>[' 7680 x 4320', ' 3 x DisplayPort 1.4a', ' 1 ...</td>\n",
       "    </tr>\n",
       "    <tr>\n",
       "      <th>3</th>\n",
       "      <td>14-930-072</td>\n",
       "      <td>ASRock Phantom Gaming D Radeon RX 6750 XT 12GB...</td>\n",
       "      <td>ASRock</td>\n",
       "      <td>4.8</td>\n",
       "      <td>26</td>\n",
       "      <td>379.99</td>\n",
       "      <td>0</td>\n",
       "      <td>https://c1.neweggimages.com/ProductImageCompre...</td>\n",
       "      <td>[' 2324 MHz', ' 7680 x 4320', ' 3 x DisplayPor...</td>\n",
       "    </tr>\n",
       "    <tr>\n",
       "      <th>4</th>\n",
       "      <td>14-930-064</td>\n",
       "      <td>ASRock Phantom Gaming D Radeon RX 6600 XT 8GB ...</td>\n",
       "      <td>ASRock</td>\n",
       "      <td>4.8</td>\n",
       "      <td>32</td>\n",
       "      <td>229.99</td>\n",
       "      <td>0</td>\n",
       "      <td>https://c1.neweggimages.com/ProductImageCompre...</td>\n",
       "      <td>[' 7680 x 4320', ' 3 x DisplayPort 1.4 with DS...</td>\n",
       "    </tr>\n",
       "  </tbody>\n",
       "</table>\n",
       "</div>"
      ],
      "text/plain": [
       "       itemID                                              title  \\\n",
       "0  14-137-787  MSI Ventus GeForce RTX 4070 12GB GDDR6X PCI Ex...   \n",
       "1  14-202-394  Sapphire Pulse AMD RADEON RX 6800 GAMING GRAPH...   \n",
       "2  14-137-804  MSI Ventus GeForce RTX 4060 8GB GDDR6 PCI Expr...   \n",
       "3  14-930-072  ASRock Phantom Gaming D Radeon RX 6750 XT 12GB...   \n",
       "4  14-930-064  ASRock Phantom Gaming D Radeon RX 6600 XT 8GB ...   \n",
       "\n",
       "           brand  rating  number_rating   price ship  \\\n",
       "0            MSI     5.0              1  599.99    0   \n",
       "1  Sapphire Tech     4.7             46  499.99    0   \n",
       "2            MSI     4.5             15  299.99    0   \n",
       "3         ASRock     4.8             26  379.99    0   \n",
       "4         ASRock     4.8             32  229.99    0   \n",
       "\n",
       "                                           image_url  \\\n",
       "0  https://c1.neweggimages.com/ProductImageCompre...   \n",
       "1  https://c1.neweggimages.com/ProductImageCompre...   \n",
       "2  https://c1.neweggimages.com/ProductImageCompre...   \n",
       "3  https://c1.neweggimages.com/ProductImageCompre...   \n",
       "4  https://c1.neweggimages.com/ProductImageCompre...   \n",
       "\n",
       "                                         product_des  \n",
       "0  [' 7680 x 4320', ' 3 x DisplayPort 1.4a', ' 1 ...  \n",
       "1  [' 7680 x 4320', ' 3 x DisplayPort 1.4', ' 1 x...  \n",
       "2  [' 7680 x 4320', ' 3 x DisplayPort 1.4a', ' 1 ...  \n",
       "3  [' 2324 MHz', ' 7680 x 4320', ' 3 x DisplayPor...  \n",
       "4  [' 7680 x 4320', ' 3 x DisplayPort 1.4 with DS...  "
      ]
     },
     "execution_count": 7,
     "metadata": {},
     "output_type": "execute_result"
    }
   ],
   "source": [
    "df.head()"
   ]
  },
  {
   "cell_type": "code",
   "execution_count": 8,
   "id": "a49dbcca",
   "metadata": {},
   "outputs": [
    {
     "data": {
      "text/plain": [
       "\"[' 2324 MHz', ' 7680 x 4320', ' 3 x DisplayPort 1.4', ' 1 x HDMI 2.1', 'RX6750XT PGD 12GO', 'N82E16814930072']\""
      ]
     },
     "execution_count": 8,
     "metadata": {},
     "output_type": "execute_result"
    }
   ],
   "source": [
    "df['product_des'][3]"
   ]
  },
  {
   "cell_type": "code",
   "execution_count": 9,
   "id": "accfa6cc",
   "metadata": {},
   "outputs": [
    {
     "data": {
      "text/plain": [
       "\"[' 7680 x 4320', ' 3 x DisplayPort 2.1', ' 1 x HDMI 2.1', ' 2.8 Slot', 'RX7900XT PG 20GO', 'N82E16814930083']\""
      ]
     },
     "execution_count": 9,
     "metadata": {},
     "output_type": "execute_result"
    }
   ],
   "source": [
    "df['product_des'][5]"
   ]
  },
  {
   "cell_type": "code",
   "execution_count": 10,
   "id": "d5109724",
   "metadata": {},
   "outputs": [
    {
     "name": "stdout",
     "output_type": "stream",
     "text": [
      "2\n",
      "3\n",
      "4\n"
     ]
    }
   ],
   "source": [
    "for i in range(2,5):\n",
    "    print (i)\n",
    "    "
   ]
  },
  {
   "cell_type": "code",
   "execution_count": 11,
   "id": "ee5ab809",
   "metadata": {},
   "outputs": [
    {
     "name": "stdout",
     "output_type": "stream",
     "text": [
      "['https://www.newegg.com/GPUs-Video-Graphics-Cards/SubCategory/ID-48?Tid=7709/Page-2', 'https://www.newegg.com/GPUs-Video-Graphics-Cards/SubCategory/ID-48?Tid=7709/Page-3', 'https://www.newegg.com/GPUs-Video-Graphics-Cards/SubCategory/ID-48?Tid=7709/Page-4']\n"
     ]
    }
   ],
   "source": [
    "url=[]\n",
    "for i in range(2,5):\n",
    "    based_url='https://www.newegg.com/GPUs-Video-Graphics-Cards/SubCategory/ID-48?Tid=7709/Page-'\n",
    "    url_p = based_url + str(i)\n",
    "    url.append(url_p)\n",
    "print(url)"
   ]
  },
  {
   "cell_type": "code",
   "execution_count": null,
   "id": "3b48996c",
   "metadata": {},
   "outputs": [],
   "source": []
  }
 ],
 "metadata": {
  "kernelspec": {
   "display_name": "Python 3 (ipykernel)",
   "language": "python",
   "name": "python3"
  },
  "language_info": {
   "codemirror_mode": {
    "name": "ipython",
    "version": 3
   },
   "file_extension": ".py",
   "mimetype": "text/x-python",
   "name": "python",
   "nbconvert_exporter": "python",
   "pygments_lexer": "ipython3",
   "version": "3.10.9"
  }
 },
 "nbformat": 4,
 "nbformat_minor": 5
}
